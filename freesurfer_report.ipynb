{
 "cells": [
  {
   "attachments": {},
   "cell_type": "markdown",
   "id": "7346042a",
   "metadata": {},
   "source": [
    "# Reproducing MRIQC report"
   ]
  },
  {
   "cell_type": "code",
   "execution_count": 2,
   "id": "26328a39",
   "metadata": {},
   "outputs": [],
   "source": [
    "from pathlib import Path\n",
    "from bids import BIDSLayout\n",
    "from nibabel.freesurfer.mghformat import load\n",
    "from brainspace.plotting import plot_hemispheres\n",
    "from brainspace.mesh.mesh_io import read_surface\n",
    "from nireports.assembler.report import Report\n",
    "import numpy as np\n",
    "import nibabel as nib"
   ]
  },
  {
   "cell_type": "code",
   "execution_count": 3,
   "id": "9f10fe8e",
   "metadata": {},
   "outputs": [],
   "source": [
    "layout = BIDSLayout(\"bids_testset\")"
   ]
  },
  {
   "cell_type": "code",
   "execution_count": 8,
   "id": "386f596a",
   "metadata": {},
   "outputs": [
    {
     "name": "stdout",
     "output_type": "stream",
     "text": [
      "ses-01\r\n"
     ]
    }
   ],
   "source": [
    "!ls bids_testset/sub-pp001/"
   ]
  },
  {
   "cell_type": "code",
   "execution_count": 9,
   "id": "3f214227",
   "metadata": {},
   "outputs": [],
   "source": [
    "in_file = layout.get_file(\"sub-pp001/ses-01/anat/sub-pp001_ses-01_T1w.nii.gz\")"
   ]
  },
  {
   "cell_type": "code",
   "execution_count": 10,
   "id": "0bc31305",
   "metadata": {},
   "outputs": [],
   "source": [
    "entities = in_file.get_entities()\n",
    "entities.pop(\"extension\", None)\n",
    "report_type = entities.pop(\"datatype\", None)"
   ]
  },
  {
   "cell_type": "code",
   "execution_count": 11,
   "id": "28893975",
   "metadata": {},
   "outputs": [
    {
     "name": "stdout",
     "output_type": "stream",
     "text": [
      "{'session': '01', 'subject': 'pp001', 'suffix': 'T1w'}\n",
      "anat\n"
     ]
    }
   ],
   "source": [
    "print(entities)\n",
    "print(report_type)"
   ]
  },
  {
   "cell_type": "code",
   "execution_count": 12,
   "id": "8aa366d1",
   "metadata": {},
   "outputs": [],
   "source": [
    "bootstrap_file=f\"bootstrap_data/bootstrap-{report_type}.yml\""
   ]
  },
  {
   "cell_type": "code",
   "execution_count": 8,
   "id": "70a34b8f",
   "metadata": {},
   "outputs": [],
   "source": [
    "prov = {}\n",
    "prov[\"Input filename\"] = f\"Test filename\"\n",
    "prov[\"Version Freesurfer\"] = f\"Version X.Y\"\n",
    "prov[\"Execution environment\"] = f\"Test environment\""
   ]
  },
  {
   "cell_type": "code",
   "execution_count": 9,
   "id": "8ea42a99",
   "metadata": {},
   "outputs": [],
   "source": [
    "bids_meta = layout.get_file(in_file).get_metadata()"
   ]
  },
  {
   "cell_type": "code",
   "execution_count": 10,
   "id": "d037b11c",
   "metadata": {},
   "outputs": [],
   "source": [
    "metadata={\n",
    "    \"dataset\": \"test name\",\n",
    "    \"about-metadata\": {\n",
    "        \"Provenance Information\": prov,\n",
    "        \"Dataset Information\": bids_meta,\n",
    "    }\n",
    "}"
   ]
  },
  {
   "cell_type": "code",
   "execution_count": 11,
   "id": "974c46ab",
   "metadata": {},
   "outputs": [],
   "source": [
    "output_dir = \"bids_testset/derivatives/testreport\"\n",
    "uuid = \"test_uuid\"\n",
    "reportlets_dir = \"bids_testset/derivatives/mriqc/sub-pp001/figures/\""
   ]
  },
  {
   "cell_type": "code",
   "execution_count": 12,
   "id": "dfcb7eed",
   "metadata": {},
   "outputs": [],
   "source": [
    "robj = Report(output_dir, uuid, reportlets_dir=reportlets_dir,\n",
    "              bootstrap_file=bootstrap_file, metadata=metadata,\n",
    "              plugin_meta={}, **entities)"
   ]
  },
  {
   "cell_type": "code",
   "execution_count": 14,
   "id": "75b8e81a",
   "metadata": {},
   "outputs": [
    {
     "data": {
      "text/plain": [
       "0"
      ]
     },
     "execution_count": 14,
     "metadata": {},
     "output_type": "execute_result"
    }
   ],
   "source": [
    "robj.generate_report()"
   ]
  },
  {
   "attachments": {},
   "cell_type": "markdown",
   "id": "b612a147",
   "metadata": {},
   "source": [
    "# Apply nireports to Freesurfer output data"
   ]
  },
  {
   "cell_type": "code",
   "execution_count": 3,
   "id": "95d2c149",
   "metadata": {},
   "outputs": [],
   "source": [
    "dir_FS =\"bids_testset/derivatives/freesurfer/sub-pp001\""
   ]
  },
  {
   "attachments": {},
   "cell_type": "markdown",
   "id": "4b697082",
   "metadata": {},
   "source": [
    "## Steps"
   ]
  },
  {
   "attachments": {},
   "cell_type": "markdown",
   "id": "f809b34a",
   "metadata": {},
   "source": [
    "1. Create figures as either .svg or .html in a `reportlets_dir`\n",
    "\n",
    "Note: each figure is a \"reportlet\"\n",
    "\n",
    "2. Create a bootstrap_file which will gather the appropriate reportlets in sections\n",
    "\n",
    "3. Create dictionaries for each set of textual information (e.g. brain region volumes)\n",
    "\n",
    "Note: each set title `set_title` and asscociated dictionary `dict` are to be the values of `metadata[\"about-metadata\"]` so that `metadata[\"about-metadata\"][\"set_title'] = dict`\n",
    "\n",
    "4. Generate the report by generating an instance of `Report` and calling the `generate_report` method"
   ]
  },
  {
   "attachments": {},
   "cell_type": "markdown",
   "id": "b0ea1f60",
   "metadata": {},
   "source": [
    "## Step 1: creating figures"
   ]
  },
  {
   "cell_type": "code",
   "execution_count": 4,
   "id": "8c89a650",
   "metadata": {},
   "outputs": [],
   "source": [
    "# Load native pial surface\n",
    "pial_lh = read_surface(dir_FS+'/surf/lh.pial', itype='fs')\n",
    "pial_rh = read_surface(dir_FS+'/surf/rh.pial', itype='fs')\n",
    "\n",
    "# Load native mid surface\n",
    "mid_lh = read_surface(dir_FS+'/surf/lh.midthickness', itype='fs')\n",
    "mid_rh = read_surface(dir_FS+'/surf/rh.midthickness', itype='fs')\n",
    "\n",
    "# Load native white matter surface\n",
    "wm_lh = read_surface(dir_FS+'/surf/lh.white', itype='fs')\n",
    "wm_rh = read_surface(dir_FS+'/surf/rh.white', itype='fs')\n",
    "\n",
    "# Load native inflated surface\n",
    "inf_lh = read_surface(dir_FS+'/surf/lh.inflated', itype='fs')\n",
    "inf_rh = read_surface(dir_FS+'/surf/rh.inflated', itype='fs')"
   ]
  },
  {
   "attachments": {},
   "cell_type": "markdown",
   "id": "a0544f1f",
   "metadata": {},
   "source": [
    "### Thickness: Inflated native surface"
   ]
  },
  {
   "cell_type": "code",
   "execution_count": 5,
   "id": "4140563e",
   "metadata": {},
   "outputs": [],
   "source": [
    "th_lh = dir_FS + '/surf/lh.thickness'\n",
    "th_rh = dir_FS + '/surf/rh.thickness'\n",
    "th_nat = np.hstack(np.concatenate((nib.freesurfer.read_morph_data(th_lh),\n",
    "                                   nib.freesurfer.read_morph_data(th_rh)), axis=0))"
   ]
  },
  {
   "cell_type": "code",
   "execution_count": null,
   "id": "22316198",
   "metadata": {},
   "outputs": [],
   "source": [
    "# Plot the surface\n",
    "plot_hemispheres(inf_lh, inf_rh, array_name=th_nat, size=(900, 250), color_bar='bottom', zoom=1.25, embed_nb=True, \n",
    "                 interactive=False, share='both', nan_color=(0, 0, 0, 1), color_range=(1.5, 4), cmap=\"inferno\", \n",
    "                 transparent_bg=False)"
   ]
  },
  {
   "cell_type": "code",
   "execution_count": 8,
   "id": "f04fea6a",
   "metadata": {},
   "outputs": [
    {
     "data": {
      "text/plain": [
       "(276355,)"
      ]
     },
     "execution_count": 8,
     "metadata": {},
     "output_type": "execute_result"
    }
   ],
   "source": [
    "th_nat.shape"
   ]
  },
  {
   "cell_type": "code",
   "execution_count": 13,
   "id": "83fd08a4",
   "metadata": {},
   "outputs": [
    {
     "data": {
      "text/plain": [
       "275684"
      ]
     },
     "execution_count": 13,
     "metadata": {},
     "output_type": "execute_result"
    }
   ],
   "source": [
    "inf_lh.n_points * 2"
   ]
  },
  {
   "cell_type": "code",
   "execution_count": null,
   "id": "fa580ce1",
   "metadata": {},
   "outputs": [],
   "source": [
    "from functions import generate_volume_dictionary, generate_paths, generate_table_volume\n",
    "\n",
    "\n",
    "aseg_paths = generate_paths(\"bids_testset\")\n",
    "table = generate_table_volume(aseg_paths)\n",
    "\n",
    "dictionary = generate_volume_dictionary(table)\n",
    "print(dictionary)\n",
    "\n",
    "layout = BIDSLayout(\"bids_testset\")\n",
    "\n",
    "in_file = layout.get_file(\"sub-pp001/ses-01/anat/sub-pp001_ses-01_T1w.nii.gz\")\n",
    "\n",
    "entities = in_file.get_entities()\n",
    "entities.pop(\"extension\", None)\n",
    "report_type = entities.pop(\"datatype\", None)\n",
    "\n",
    "bids_meta = layout.get_file(in_file).get_metadata()\n",
    "\n",
    "bootstrap_file=f\"bootstrap_data/bootstrap-{report_type}.yml\"\n",
    "\n",
    "prov = {}\n",
    "prov[\"Input filename\"] = f\"Test filename\"\n",
    "prov[\"Version Freesurfer\"] = f\"Version X.Y\"\n",
    "prov[\"Execution environment\"] = f\"Test environment\"\n",
    "\n",
    "metadata={\n",
    "    \"dataset\": \"test name\",\n",
    "     \"about-metadata\": {\n",
    "         \"Provenance Information\": prov,\n",
    "         \"Volume metrics\": dictionary,\n",
    "         \"Dataset Information\": bids_meta\n",
    "         }\n",
    "}\n",
    "\n",
    "output_dir = \"bids_testset/derivatives/testreport\"\n",
    "uuid = \"test_uuid\"\n",
    "reportlets_dir = \"bids_testset/derivatives/mriqc/sub-pp001/figures/\"\n",
    "\n",
    "robj = Report(output_dir, uuid, reportlets_dir=reportlets_dir,\n",
    "              bootstrap_file=bootstrap_file, metadata=metadata,\n",
    "              plugin_meta={}, **entities)\n",
    "\n",
    "robj.generate_report()\n"
   ]
  }
 ],
 "metadata": {
  "kernelspec": {
   "display_name": "Python [conda env:.conda-nireports38]",
   "language": "python",
   "name": "conda-env-.conda-nireports38-py"
  },
  "language_info": {
   "codemirror_mode": {
    "name": "ipython",
    "version": 3
   },
   "file_extension": ".py",
   "mimetype": "text/x-python",
   "name": "python",
   "nbconvert_exporter": "python",
   "pygments_lexer": "ipython3",
   "version": "3.8.17"
  }
 },
 "nbformat": 4,
 "nbformat_minor": 5
}
