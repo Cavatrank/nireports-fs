{
 "cells": [
  {
   "cell_type": "markdown",
   "id": "7346042a",
   "metadata": {},
   "source": [
    "# Reproducing MRIQC report"
   ]
  },
  {
   "cell_type": "code",
   "execution_count": 1,
   "id": "26328a39",
   "metadata": {},
   "outputs": [],
   "source": [
    "from bids import BIDSLayout\n",
    "from nireports.assembler.report import Report"
   ]
  },
  {
   "cell_type": "code",
   "execution_count": 2,
   "id": "9f10fe8e",
   "metadata": {},
   "outputs": [],
   "source": [
    "layout = BIDSLayout(\"bids_testset\")"
   ]
  },
  {
   "cell_type": "code",
   "execution_count": 3,
   "id": "386f596a",
   "metadata": {},
   "outputs": [
    {
     "name": "stdout",
     "output_type": "stream",
     "text": [
      "ses-01\r\n"
     ]
    }
   ],
   "source": [
    "!ls bids_testset/sub-pp001/"
   ]
  },
  {
   "cell_type": "code",
   "execution_count": 4,
   "id": "3f214227",
   "metadata": {},
   "outputs": [],
   "source": [
    "in_file = layout.get_file(\"sub-pp001/ses-01/anat/sub-pp001_ses-01_T1w.nii.gz\")"
   ]
  },
  {
   "cell_type": "code",
   "execution_count": 5,
   "id": "0bc31305",
   "metadata": {},
   "outputs": [],
   "source": [
    "entities = in_file.get_entities()\n",
    "entities.pop(\"extension\", None)\n",
    "report_type = entities.pop(\"datatype\", None)"
   ]
  },
  {
   "cell_type": "code",
   "execution_count": 6,
   "id": "28893975",
   "metadata": {},
   "outputs": [
    {
     "name": "stdout",
     "output_type": "stream",
     "text": [
      "{'session': '01', 'subject': 'pp001', 'suffix': 'T1w'}\n",
      "anat\n"
     ]
    }
   ],
   "source": [
    "print(entities)\n",
    "print(report_type)"
   ]
  },
  {
   "cell_type": "code",
   "execution_count": 7,
   "id": "8aa366d1",
   "metadata": {},
   "outputs": [],
   "source": [
    "bootstrap_file=f\"bootstrap_data/bootstrap-{report_type}.yml\""
   ]
  },
  {
   "cell_type": "code",
   "execution_count": 8,
   "id": "70a34b8f",
   "metadata": {},
   "outputs": [],
   "source": [
    "prov = {}\n",
    "prov[\"Input filename\"] = f\"Test filename\"\n",
    "prov[\"Version Freesurfer\"] = f\"Version X.Y\"\n",
    "prov[\"Execution environment\"] = f\"Test environment\""
   ]
  },
  {
   "cell_type": "code",
   "execution_count": 9,
   "id": "8ea42a99",
   "metadata": {},
   "outputs": [],
   "source": [
    "bids_meta = layout.get_file(in_file).get_metadata()"
   ]
  },
  {
   "cell_type": "code",
   "execution_count": 10,
   "id": "d037b11c",
   "metadata": {},
   "outputs": [],
   "source": [
    "metadata={\n",
    "    \"dataset\": \"test name\",\n",
    "    \"about-metadata\": {\n",
    "        \"Provenance Information\": prov,\n",
    "        \"Dataset Information\": bids_meta,\n",
    "    }\n",
    "}"
   ]
  },
  {
   "cell_type": "code",
   "execution_count": 11,
   "id": "974c46ab",
   "metadata": {},
   "outputs": [],
   "source": [
    "output_dir = \"bids_testset/derivatives/testreport\"\n",
    "uuid = \"test_uuid\"\n",
    "reportlets_dir = \"bids_testset/derivatives/mriqc/sub-pp001/figures/\""
   ]
  },
  {
   "cell_type": "code",
   "execution_count": 12,
   "id": "dfcb7eed",
   "metadata": {},
   "outputs": [],
   "source": [
    "robj = Report(output_dir, uuid, reportlets_dir=reportlets_dir,\n",
    "              bootstrap_file=bootstrap_file, metadata=metadata,\n",
    "              plugin_meta={}, **entities)"
   ]
  },
  {
   "cell_type": "code",
   "execution_count": 14,
   "id": "75b8e81a",
   "metadata": {},
   "outputs": [
    {
     "data": {
      "text/plain": [
       "0"
      ]
     },
     "execution_count": 14,
     "metadata": {},
     "output_type": "execute_result"
    }
   ],
   "source": [
    "robj.generate_report()"
   ]
  },
  {
   "cell_type": "markdown",
   "id": "4dae85ae",
   "metadata": {},
   "source": [
    "# Apply nireports to Freesurfer output data"
   ]
  },
  {
   "cell_type": "markdown",
   "id": "66022dbd",
   "metadata": {},
   "source": [
    "## Steps"
   ]
  },
  {
   "cell_type": "markdown",
   "id": "d8be92de",
   "metadata": {},
   "source": [
    "1. Create figures as either .svg or .html in a `reportlets_dir`\n",
    "\n",
    "Note: each figure is a \"reportlet\"\n",
    "\n",
    "2. Create a bootstrap_file which will gather the appropriate reportlets in sections\n",
    "\n",
    "3. Create dictionaries for each set of textual information (e.g. brain region volumes)\n",
    "\n",
    "Note: each set title `set_title` and asscociated dictionary `dict` are to be the values of `metadata[\"about-metadata\"]` so that `metadata[\"about-metadata\"][\"set_title'] = dict`\n",
    "\n",
    "4. Generate the report by generating an instance of `Report` and calling the `generate_report` method"
   ]
  }
 ],
 "metadata": {
  "kernelspec": {
   "display_name": "Python [conda env:shared-ni38]",
   "language": "python",
   "name": "conda-env-shared-ni38-py"
  },
  "language_info": {
   "codemirror_mode": {
    "name": "ipython",
    "version": 3
   },
   "file_extension": ".py",
   "mimetype": "text/x-python",
   "name": "python",
   "nbconvert_exporter": "python",
   "pygments_lexer": "ipython3",
   "version": "3.8.2"
  }
 },
 "nbformat": 4,
 "nbformat_minor": 5
}
